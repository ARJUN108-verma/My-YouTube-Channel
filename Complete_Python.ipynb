{
  "nbformat": 4,
  "nbformat_minor": 0,
  "metadata": {
    "colab": {
      "provenance": [],
      "authorship_tag": "ABX9TyNdUXKa4JzbSDfYtP45ahqp",
      "include_colab_link": true
    },
    "kernelspec": {
      "name": "python3",
      "display_name": "Python 3"
    },
    "language_info": {
      "name": "python"
    }
  },
  "cells": [
    {
      "cell_type": "markdown",
      "metadata": {
        "id": "view-in-github",
        "colab_type": "text"
      },
      "source": [
        "<a href=\"https://colab.research.google.com/github/ARJUN108-verma/My-YouTube-Channel/blob/main/Complete_Python.ipynb\" target=\"_parent\"><img src=\"https://colab.research.google.com/assets/colab-badge.svg\" alt=\"Open In Colab\"/></a>"
      ]
    },
    {
      "cell_type": "markdown",
      "source": [
        "#Complete Python"
      ],
      "metadata": {
        "id": "rgqBYQbm89Sf"
      }
    },
    {
      "cell_type": "markdown",
      "source": [
        "Python :- Python is a popular, high-level, general-purpose programming language known for its clear syntax and readability, making it beginner-friendly and efficient for a wide range of applications, including web development, data science, automation, and artificial intelligence."
      ],
      "metadata": {
        "id": "WXvrbIs_9CdF"
      }
    },
    {
      "cell_type": "markdown",
      "source": [
        "Python was developed by Guido van Rossum, a Dutch programmer. He began working on Python in the late 1980s at Centrum Wiskunde & Informatica (CWI) in the Netherlands, and its first version was released in 1991."
      ],
      "metadata": {
        "id": "QHKtb17n9WCN"
      }
    },
    {
      "cell_type": "code",
      "source": [
        "print(\"Welcome to Python course\")"
      ],
      "metadata": {
        "colab": {
          "base_uri": "https://localhost:8080/"
        },
        "id": "44-mD90x84v5",
        "outputId": "10f3caed-5b47-4c30-adef-558e1d89f4fb"
      },
      "execution_count": 1,
      "outputs": [
        {
          "output_type": "stream",
          "name": "stdout",
          "text": [
            "Welcome to Python course\n"
          ]
        }
      ]
    },
    {
      "cell_type": "markdown",
      "source": [
        "#Comments"
      ],
      "metadata": {
        "id": "MQK4Kf0vD-aN"
      }
    },
    {
      "cell_type": "markdown",
      "source": [
        "Comments in Python are used to add explanatory notes within the code, making it more readable and understandable for both the original programmer and others who might review the code later. The Python interpreter ignores comments during program execution."
      ],
      "metadata": {
        "id": "Clpytiy5EKGU"
      }
    },
    {
      "cell_type": "markdown",
      "source": [
        "Single line comments:-"
      ],
      "metadata": {
        "id": "iNaVG2zBEj44"
      }
    },
    {
      "cell_type": "code",
      "execution_count": 2,
      "metadata": {
        "colab": {
          "base_uri": "https://localhost:8080/"
        },
        "id": "N4tEOvpS8eK_",
        "outputId": "cb4aa984-3f51-41fd-c9bc-cfac96b83ee9"
      },
      "outputs": [
        {
          "output_type": "stream",
          "name": "stdout",
          "text": [
            "hello world\n"
          ]
        }
      ],
      "source": [
        "#1-this is the single line comment\n",
        "print(\"hello world\")"
      ]
    },
    {
      "cell_type": "markdown",
      "source": [
        "Multi-line comments:-"
      ],
      "metadata": {
        "id": "WVXykBqSEyAE"
      }
    },
    {
      "cell_type": "code",
      "source": [
        "\"\"\"this is\n",
        "multi-line\n",
        "comments\"\"\"\n",
        "print(\"Arjun\")"
      ],
      "metadata": {
        "colab": {
          "base_uri": "https://localhost:8080/"
        },
        "id": "JrH-CoczEt6D",
        "outputId": "96ac2733-af23-448d-89d0-b8ade67a3afb"
      },
      "execution_count": 3,
      "outputs": [
        {
          "output_type": "stream",
          "name": "stdout",
          "text": [
            "Arjun\n"
          ]
        }
      ]
    },
    {
      "cell_type": "markdown",
      "source": [
        "Variables:-a variable is a named storage location that holds a value. It acts as a symbolic name, or identifier, for a piece of data in your program's memory."
      ],
      "metadata": {
        "id": "1IQBppf8-8fp"
      }
    },
    {
      "cell_type": "code",
      "source": [
        "#integer variable\n",
        "age = 25\n",
        "print(\"age\",age)"
      ],
      "metadata": {
        "id": "PI05u_DeFAKu",
        "colab": {
          "base_uri": "https://localhost:8080/"
        },
        "outputId": "7acadbdb-10c7-46ff-a6c8-ba651054a5d4"
      },
      "execution_count": 4,
      "outputs": [
        {
          "output_type": "stream",
          "name": "stdout",
          "text": [
            "age 25\n"
          ]
        }
      ]
    },
    {
      "cell_type": "code",
      "source": [
        "#float variable\n",
        "height = 6.3\n",
        "print(height)"
      ],
      "metadata": {
        "colab": {
          "base_uri": "https://localhost:8080/"
        },
        "id": "lxSFjy_yA2ja",
        "outputId": "105272e9-39fa-4259-92b5-e2012435f5e1"
      },
      "execution_count": 5,
      "outputs": [
        {
          "output_type": "stream",
          "name": "stdout",
          "text": [
            "6.3\n"
          ]
        }
      ]
    },
    {
      "cell_type": "code",
      "source": [
        "#string variable\n",
        "name = \"Arjun\"\n",
        "print(name)"
      ],
      "metadata": {
        "colab": {
          "base_uri": "https://localhost:8080/"
        },
        "id": "5zbbT3BQBCMZ",
        "outputId": "60f0d936-c0a1-447a-846b-3c525cd323ee"
      },
      "execution_count": 6,
      "outputs": [
        {
          "output_type": "stream",
          "name": "stdout",
          "text": [
            "Arjun\n"
          ]
        }
      ]
    },
    {
      "cell_type": "code",
      "source": [
        "#boolean variabel\n",
        "is_present = True\n",
        "print(is_present)"
      ],
      "metadata": {
        "colab": {
          "base_uri": "https://localhost:8080/"
        },
        "id": "8fNRst1mBLMc",
        "outputId": "60a5ccb6-27e5-4495-9178-b0b50a4bb16e"
      },
      "execution_count": 7,
      "outputs": [
        {
          "output_type": "stream",
          "name": "stdout",
          "text": [
            "True\n"
          ]
        }
      ]
    },
    {
      "cell_type": "code",
      "source": [
        "#List variable\n",
        "fruits = [\"apple\", \"mango\",\"banana\"]\n",
        "print(fruits)"
      ],
      "metadata": {
        "colab": {
          "base_uri": "https://localhost:8080/"
        },
        "id": "9AreeerjBXfk",
        "outputId": "49a0625f-d516-4a6d-ae0e-d0f74f8f7f39"
      },
      "execution_count": 8,
      "outputs": [
        {
          "output_type": "stream",
          "name": "stdout",
          "text": [
            "['apple', 'mango', 'banana']\n"
          ]
        }
      ]
    },
    {
      "cell_type": "code",
      "source": [
        "#Dictionary\n",
        "student = {\"name\":'arjun',\"age \":23}\n",
        "print(student)"
      ],
      "metadata": {
        "colab": {
          "base_uri": "https://localhost:8080/"
        },
        "id": "qwVCNpJ0Bl4n",
        "outputId": "de25b29a-91b2-400d-92f9-0770ca63395e"
      },
      "execution_count": 10,
      "outputs": [
        {
          "output_type": "stream",
          "name": "stdout",
          "text": [
            "{'name': 'arjun', 'age ': 23}\n"
          ]
        }
      ]
    },
    {
      "cell_type": "code",
      "source": [
        "#Tuple variable\n",
        "color = (\"red\",\"balck\", \"yellow\")\n",
        "print(color)"
      ],
      "metadata": {
        "colab": {
          "base_uri": "https://localhost:8080/"
        },
        "id": "YKwncaKOB3eO",
        "outputId": "c275b075-a575-46cc-885d-dd1652c66e10"
      },
      "execution_count": 11,
      "outputs": [
        {
          "output_type": "stream",
          "name": "stdout",
          "text": [
            "('red', 'balck', 'yellow')\n"
          ]
        }
      ]
    },
    {
      "cell_type": "code",
      "source": [
        "#set variabel\n",
        "number = {1, 2, 3,4, 5}\n",
        "print(number)"
      ],
      "metadata": {
        "colab": {
          "base_uri": "https://localhost:8080/"
        },
        "id": "UQKlvAOXCIyE",
        "outputId": "32dd0fa6-13b3-48e5-f4d4-bde81d1f4605"
      },
      "execution_count": 12,
      "outputs": [
        {
          "output_type": "stream",
          "name": "stdout",
          "text": [
            "{1, 2, 3, 4, 5}\n"
          ]
        }
      ]
    },
    {
      "cell_type": "markdown",
      "source": [
        "Data types:- Python supports various built-in data types to store different kinds of values. These data types can be broadly categorized as follows:"
      ],
      "metadata": {
        "id": "44-_GNzdC9uJ"
      }
    },
    {
      "cell_type": "code",
      "source": [
        "#integer\n",
        "x = 9\n",
        "print(type(x))"
      ],
      "metadata": {
        "colab": {
          "base_uri": "https://localhost:8080/"
        },
        "id": "lFmxDf7FCVou",
        "outputId": "d7b3c6e0-dedc-45cb-81bd-49072a6ee73b"
      },
      "execution_count": 14,
      "outputs": [
        {
          "output_type": "stream",
          "name": "stdout",
          "text": [
            "<class 'int'>\n"
          ]
        }
      ]
    },
    {
      "cell_type": "code",
      "source": [
        "#float\n",
        "y = 9.9\n",
        "print(type(y))"
      ],
      "metadata": {
        "colab": {
          "base_uri": "https://localhost:8080/"
        },
        "id": "znJ0B8hPDgvR",
        "outputId": "e2c5a483-2f78-4268-a43d-64ffd660301b"
      },
      "execution_count": 15,
      "outputs": [
        {
          "output_type": "stream",
          "name": "stdout",
          "text": [
            "<class 'float'>\n"
          ]
        }
      ]
    },
    {
      "cell_type": "code",
      "source": [
        "#string\n",
        "na = \"ARJUN\"\n",
        "print(type(na))"
      ],
      "metadata": {
        "colab": {
          "base_uri": "https://localhost:8080/"
        },
        "id": "u3wgakuTDrWm",
        "outputId": "81b4812c-cfa1-44a0-f0cc-c4e7947f9a73"
      },
      "execution_count": 16,
      "outputs": [
        {
          "output_type": "stream",
          "name": "stdout",
          "text": [
            "<class 'str'>\n"
          ]
        }
      ]
    },
    {
      "cell_type": "code",
      "source": [
        "#boolean\n",
        "is_present = False\n",
        "print(type(is_present))"
      ],
      "metadata": {
        "colab": {
          "base_uri": "https://localhost:8080/"
        },
        "id": "xjUcG8zhDy4B",
        "outputId": "36b0b9b8-1694-4420-d9ce-813fed961fb5"
      },
      "execution_count": 17,
      "outputs": [
        {
          "output_type": "stream",
          "name": "stdout",
          "text": [
            "<class 'bool'>\n"
          ]
        }
      ]
    },
    {
      "cell_type": "code",
      "source": [
        "#List\n",
        "fruits= ['APPLE ', \"mange\", \"banana\"]\n",
        "print(type(fruits))"
      ],
      "metadata": {
        "colab": {
          "base_uri": "https://localhost:8080/"
        },
        "id": "wC_blpiFD-UJ",
        "outputId": "477c0457-d063-4aac-ffbd-11df954fe557"
      },
      "execution_count": 18,
      "outputs": [
        {
          "output_type": "stream",
          "name": "stdout",
          "text": [
            "<class 'list'>\n"
          ]
        }
      ]
    },
    {
      "cell_type": "code",
      "source": [
        "#tuple\n",
        "coordinates = (10.0, 20.0)\n",
        "print(type(coordinates))"
      ],
      "metadata": {
        "colab": {
          "base_uri": "https://localhost:8080/"
        },
        "id": "Fh6q4CAwENDl",
        "outputId": "7ff678f5-30c9-4f46-f352-5f3e6aad8168"
      },
      "execution_count": 19,
      "outputs": [
        {
          "output_type": "stream",
          "name": "stdout",
          "text": [
            "<class 'tuple'>\n"
          ]
        }
      ]
    },
    {
      "cell_type": "code",
      "source": [
        "#dictionary\n",
        "student = {\"name \":\"arjun\", \"Roll_nu\":108}\n",
        "print(type(student))"
      ],
      "metadata": {
        "colab": {
          "base_uri": "https://localhost:8080/"
        },
        "id": "gBBMW2QYEZuh",
        "outputId": "f3ec0071-4763-42d9-c079-946b36449a7f"
      },
      "execution_count": 20,
      "outputs": [
        {
          "output_type": "stream",
          "name": "stdout",
          "text": [
            "<class 'dict'>\n"
          ]
        }
      ]
    },
    {
      "cell_type": "code",
      "source": [
        "#set\n",
        "num = {1, 2, 3, 5}\n",
        "print(type(num))"
      ],
      "metadata": {
        "colab": {
          "base_uri": "https://localhost:8080/"
        },
        "id": "JJ0YE9vEEr2K",
        "outputId": "75a4b06d-d0b6-4793-a69d-514edfab56cd"
      },
      "execution_count": 21,
      "outputs": [
        {
          "output_type": "stream",
          "name": "stdout",
          "text": [
            "<class 'set'>\n"
          ]
        }
      ]
    },
    {
      "cell_type": "code",
      "source": [
        "#none\n",
        "nothing = None\n",
        "print(type(nothing))"
      ],
      "metadata": {
        "colab": {
          "base_uri": "https://localhost:8080/"
        },
        "id": "6BrnoyvWE2at",
        "outputId": "e072f621-8e47-4a90-b88b-b9882d9e700b"
      },
      "execution_count": 22,
      "outputs": [
        {
          "output_type": "stream",
          "name": "stdout",
          "text": [
            "<class 'NoneType'>\n"
          ]
        }
      ]
    },
    {
      "cell_type": "code",
      "source": [],
      "metadata": {
        "id": "-8gHhbzLE_be"
      },
      "execution_count": null,
      "outputs": []
    }
  ]
}