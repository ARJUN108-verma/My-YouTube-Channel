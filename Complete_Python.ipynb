{
  "cells": [
    {
      "cell_type": "markdown",
      "metadata": {
        "id": "view-in-github",
        "colab_type": "text"
      },
      "source": [
        "<a href=\"https://colab.research.google.com/github/ARJUN108-verma/My-YouTube-Channel/blob/main/Complete_Python.ipynb\" target=\"_parent\"><img src=\"https://colab.research.google.com/assets/colab-badge.svg\" alt=\"Open In Colab\"/></a>"
      ]
    },
    {
      "cell_type": "markdown",
      "metadata": {
        "id": "rgqBYQbm89Sf"
      },
      "source": [
        "#Complete Python"
      ]
    },
    {
      "cell_type": "markdown",
      "metadata": {
        "id": "WXvrbIs_9CdF"
      },
      "source": [
        "Python :- Python is a popular, high-level, general-purpose programming language known for its clear syntax and readability, making it beginner-friendly and efficient for a wide range of applications, including web development, data science, automation, and artificial intelligence."
      ]
    },
    {
      "cell_type": "markdown",
      "metadata": {
        "id": "QHKtb17n9WCN"
      },
      "source": [
        "Python was developed by Guido van Rossum, a Dutch programmer. He began working on Python in the late 1980s at Centrum Wiskunde & Informatica (CWI) in the Netherlands, and its first version was released in 1991."
      ]
    },
    {
      "cell_type": "code",
      "execution_count": 67,
      "metadata": {
        "colab": {
          "base_uri": "https://localhost:8080/"
        },
        "id": "44-mD90x84v5",
        "outputId": "b67ba57b-fda0-47b5-ede5-641aade5c986"
      },
      "outputs": [
        {
          "output_type": "stream",
          "name": "stdout",
          "text": [
            "Welcome to Python course\n"
          ]
        }
      ],
      "source": [
        "print(\"Welcome to Python course\")"
      ]
    },
    {
      "cell_type": "markdown",
      "metadata": {
        "id": "MQK4Kf0vD-aN"
      },
      "source": [
        "#Comments"
      ]
    },
    {
      "cell_type": "markdown",
      "metadata": {
        "id": "Clpytiy5EKGU"
      },
      "source": [
        "Comments in Python are used to add explanatory notes within the code, making it more readable and understandable for both the original programmer and others who might review the code later. The Python interpreter ignores comments during program execution."
      ]
    },
    {
      "cell_type": "markdown",
      "metadata": {
        "id": "iNaVG2zBEj44"
      },
      "source": [
        "Single line comments:-"
      ]
    },
    {
      "cell_type": "code",
      "execution_count": 68,
      "metadata": {
        "colab": {
          "base_uri": "https://localhost:8080/"
        },
        "id": "N4tEOvpS8eK_",
        "outputId": "9d15d303-791f-4acd-ec99-bbfaab5ae54d"
      },
      "outputs": [
        {
          "output_type": "stream",
          "name": "stdout",
          "text": [
            "hello world\n"
          ]
        }
      ],
      "source": [
        "#1-this is the single line comment\n",
        "print(\"hello world\")"
      ]
    },
    {
      "cell_type": "markdown",
      "metadata": {
        "id": "WVXykBqSEyAE"
      },
      "source": [
        "Multi-line comments:-"
      ]
    },
    {
      "cell_type": "code",
      "execution_count": 69,
      "metadata": {
        "colab": {
          "base_uri": "https://localhost:8080/"
        },
        "id": "JrH-CoczEt6D",
        "outputId": "47bb44a2-8e60-4645-d511-75e696f0ed8e"
      },
      "outputs": [
        {
          "output_type": "stream",
          "name": "stdout",
          "text": [
            "Arjun\n"
          ]
        }
      ],
      "source": [
        "\"\"\"this is\n",
        "multi-line\n",
        "comments\"\"\"\n",
        "print(\"Arjun\")"
      ]
    },
    {
      "cell_type": "markdown",
      "metadata": {
        "id": "1IQBppf8-8fp"
      },
      "source": [
        "#Variables:-a variable is a named storage location that holds a value. It acts as a symbolic name, or identifier, for a piece of data in your program's memory."
      ]
    },
    {
      "cell_type": "code",
      "execution_count": 70,
      "metadata": {
        "colab": {
          "base_uri": "https://localhost:8080/"
        },
        "id": "PI05u_DeFAKu",
        "outputId": "2866dbb1-043f-477a-b4ec-8cf6cb6125e1"
      },
      "outputs": [
        {
          "output_type": "stream",
          "name": "stdout",
          "text": [
            "age 25\n"
          ]
        }
      ],
      "source": [
        "#integer variable\n",
        "age = 25\n",
        "print(\"age\",age)"
      ]
    },
    {
      "cell_type": "code",
      "execution_count": 71,
      "metadata": {
        "colab": {
          "base_uri": "https://localhost:8080/"
        },
        "id": "lxSFjy_yA2ja",
        "outputId": "bbadf274-e403-4e06-fab2-ec80c28e9665"
      },
      "outputs": [
        {
          "output_type": "stream",
          "name": "stdout",
          "text": [
            "6.3\n"
          ]
        }
      ],
      "source": [
        "#float variable\n",
        "height = 6.3\n",
        "print(height)"
      ]
    },
    {
      "cell_type": "code",
      "execution_count": 72,
      "metadata": {
        "colab": {
          "base_uri": "https://localhost:8080/"
        },
        "id": "5zbbT3BQBCMZ",
        "outputId": "0ebef776-f5c0-4125-e28b-d6c9e486320c"
      },
      "outputs": [
        {
          "output_type": "stream",
          "name": "stdout",
          "text": [
            "Arjun\n"
          ]
        }
      ],
      "source": [
        "#string variable\n",
        "name = \"Arjun\"\n",
        "print(name)"
      ]
    },
    {
      "cell_type": "code",
      "execution_count": 73,
      "metadata": {
        "colab": {
          "base_uri": "https://localhost:8080/"
        },
        "id": "8fNRst1mBLMc",
        "outputId": "69ff660b-e103-429f-83b8-b3655e16d038"
      },
      "outputs": [
        {
          "output_type": "stream",
          "name": "stdout",
          "text": [
            "True\n"
          ]
        }
      ],
      "source": [
        "#boolean variabel\n",
        "is_present = True\n",
        "print(is_present)"
      ]
    },
    {
      "cell_type": "code",
      "execution_count": 74,
      "metadata": {
        "colab": {
          "base_uri": "https://localhost:8080/"
        },
        "id": "9AreeerjBXfk",
        "outputId": "59c20b57-3bed-4b8e-8839-83bce9d830cd"
      },
      "outputs": [
        {
          "output_type": "stream",
          "name": "stdout",
          "text": [
            "['apple', 'mango', 'banana']\n"
          ]
        }
      ],
      "source": [
        "#List variable\n",
        "fruits = [\"apple\", \"mango\",\"banana\"]\n",
        "print(fruits)"
      ]
    },
    {
      "cell_type": "code",
      "execution_count": 75,
      "metadata": {
        "colab": {
          "base_uri": "https://localhost:8080/"
        },
        "id": "qwVCNpJ0Bl4n",
        "outputId": "2d7ec340-4b06-4174-ed79-4e09734804be"
      },
      "outputs": [
        {
          "output_type": "stream",
          "name": "stdout",
          "text": [
            "{'name': 'arjun', 'age ': 23}\n"
          ]
        }
      ],
      "source": [
        "#Dictionary\n",
        "student = {\"name\":'arjun',\"age \":23}\n",
        "print(student)"
      ]
    },
    {
      "cell_type": "code",
      "execution_count": 76,
      "metadata": {
        "colab": {
          "base_uri": "https://localhost:8080/"
        },
        "id": "YKwncaKOB3eO",
        "outputId": "81d4152d-929d-4db7-917a-22c3cd24cb23"
      },
      "outputs": [
        {
          "output_type": "stream",
          "name": "stdout",
          "text": [
            "('red', 'balck', 'yellow')\n"
          ]
        }
      ],
      "source": [
        "#Tuple variable\n",
        "color = (\"red\",\"balck\", \"yellow\")\n",
        "print(color)"
      ]
    },
    {
      "cell_type": "code",
      "execution_count": 77,
      "metadata": {
        "colab": {
          "base_uri": "https://localhost:8080/"
        },
        "id": "UQKlvAOXCIyE",
        "outputId": "3f3e1bd7-1315-4380-a875-726664aeda28"
      },
      "outputs": [
        {
          "output_type": "stream",
          "name": "stdout",
          "text": [
            "{1, 2, 3, 4, 5}\n"
          ]
        }
      ],
      "source": [
        "#set variabel\n",
        "number = {1, 2, 3,4, 5}\n",
        "print(number)"
      ]
    },
    {
      "cell_type": "markdown",
      "metadata": {
        "id": "44-_GNzdC9uJ"
      },
      "source": [
        "# Data types:- Python supports various built-in data types to store different kinds of values. These data types can be broadly categorized as follows:"
      ]
    },
    {
      "cell_type": "code",
      "execution_count": 78,
      "metadata": {
        "colab": {
          "base_uri": "https://localhost:8080/"
        },
        "id": "lFmxDf7FCVou",
        "outputId": "6ce8ea00-2c55-44ad-c1f2-c3812d41aafe"
      },
      "outputs": [
        {
          "output_type": "stream",
          "name": "stdout",
          "text": [
            "<class 'int'>\n"
          ]
        }
      ],
      "source": [
        "#integer\n",
        "x = 9\n",
        "print(type(x))"
      ]
    },
    {
      "cell_type": "code",
      "execution_count": 79,
      "metadata": {
        "colab": {
          "base_uri": "https://localhost:8080/"
        },
        "id": "znJ0B8hPDgvR",
        "outputId": "03dcbeaa-813e-418e-d71f-0e7f187fe06e"
      },
      "outputs": [
        {
          "output_type": "stream",
          "name": "stdout",
          "text": [
            "<class 'float'>\n"
          ]
        }
      ],
      "source": [
        "#float\n",
        "y = 9.9\n",
        "print(type(y))"
      ]
    },
    {
      "cell_type": "code",
      "execution_count": 80,
      "metadata": {
        "colab": {
          "base_uri": "https://localhost:8080/"
        },
        "id": "u3wgakuTDrWm",
        "outputId": "d19f8e5d-e4d3-417d-a7ed-1ac0bec8bb2e"
      },
      "outputs": [
        {
          "output_type": "stream",
          "name": "stdout",
          "text": [
            "<class 'str'>\n"
          ]
        }
      ],
      "source": [
        "#string\n",
        "na = \"ARJUN\"\n",
        "print(type(na))"
      ]
    },
    {
      "cell_type": "code",
      "execution_count": 81,
      "metadata": {
        "colab": {
          "base_uri": "https://localhost:8080/"
        },
        "id": "xjUcG8zhDy4B",
        "outputId": "1488ad75-aeb2-414a-acf4-52f589de13fd"
      },
      "outputs": [
        {
          "output_type": "stream",
          "name": "stdout",
          "text": [
            "<class 'bool'>\n"
          ]
        }
      ],
      "source": [
        "#boolean\n",
        "is_present = False\n",
        "print(type(is_present))"
      ]
    },
    {
      "cell_type": "code",
      "execution_count": 82,
      "metadata": {
        "colab": {
          "base_uri": "https://localhost:8080/"
        },
        "id": "wC_blpiFD-UJ",
        "outputId": "73c51f70-8c79-4a37-8e64-78caca772e0a"
      },
      "outputs": [
        {
          "output_type": "stream",
          "name": "stdout",
          "text": [
            "<class 'list'>\n"
          ]
        }
      ],
      "source": [
        "#List\n",
        "fruits= ['APPLE ', \"mange\", \"banana\"]\n",
        "print(type(fruits))"
      ]
    },
    {
      "cell_type": "code",
      "execution_count": 83,
      "metadata": {
        "colab": {
          "base_uri": "https://localhost:8080/"
        },
        "id": "Fh6q4CAwENDl",
        "outputId": "2eae3116-6007-4f3f-ddaf-2aaaa9f4521e"
      },
      "outputs": [
        {
          "output_type": "stream",
          "name": "stdout",
          "text": [
            "<class 'tuple'>\n"
          ]
        }
      ],
      "source": [
        "#tuple\n",
        "coordinates = (10.0, 20.0)\n",
        "print(type(coordinates))"
      ]
    },
    {
      "cell_type": "code",
      "execution_count": 84,
      "metadata": {
        "colab": {
          "base_uri": "https://localhost:8080/"
        },
        "id": "gBBMW2QYEZuh",
        "outputId": "1e0f3d71-5ee1-4613-f865-e4a037c7baa6"
      },
      "outputs": [
        {
          "output_type": "stream",
          "name": "stdout",
          "text": [
            "<class 'dict'>\n"
          ]
        }
      ],
      "source": [
        "#dictionary\n",
        "student = {\"name \":\"arjun\", \"Roll_nu\":108}\n",
        "print(type(student))"
      ]
    },
    {
      "cell_type": "code",
      "execution_count": 85,
      "metadata": {
        "colab": {
          "base_uri": "https://localhost:8080/"
        },
        "id": "JJ0YE9vEEr2K",
        "outputId": "f3b76d6b-e890-46cb-d7f0-e9b32b22d128"
      },
      "outputs": [
        {
          "output_type": "stream",
          "name": "stdout",
          "text": [
            "<class 'set'>\n"
          ]
        }
      ],
      "source": [
        "#set\n",
        "num = {1, 2, 3, 5}\n",
        "print(type(num))"
      ]
    },
    {
      "cell_type": "code",
      "execution_count": 86,
      "metadata": {
        "colab": {
          "base_uri": "https://localhost:8080/"
        },
        "id": "6BrnoyvWE2at",
        "outputId": "4d13a416-e6a1-464c-c7e8-98dc540075f3"
      },
      "outputs": [
        {
          "output_type": "stream",
          "name": "stdout",
          "text": [
            "<class 'NoneType'>\n"
          ]
        }
      ],
      "source": [
        "#none\n",
        "nothing = None\n",
        "print(type(nothing))"
      ]
    },
    {
      "cell_type": "markdown",
      "metadata": {
        "id": "736f5YkNJQTY"
      },
      "source": [
        "#Numbers :- Python numbers are a fundamental data type for representing and manipulating numerical values. The three main forms of numbers in Python are integers, floating-point numbers, and complex numbers"
      ]
    },
    {
      "cell_type": "code",
      "execution_count": 87,
      "metadata": {
        "colab": {
          "base_uri": "https://localhost:8080/"
        },
        "id": "-8gHhbzLE_be",
        "outputId": "54aaf4da-a9bb-4e0d-db2d-d0c1973f11c7"
      },
      "outputs": [
        {
          "output_type": "stream",
          "name": "stdout",
          "text": [
            "<class 'int'>\n"
          ]
        }
      ],
      "source": [
        "#integer\n",
        "num1 = 10\n",
        "print(type(num1))"
      ]
    },
    {
      "cell_type": "code",
      "execution_count": 88,
      "metadata": {
        "colab": {
          "base_uri": "https://localhost:8080/"
        },
        "id": "w0N9QSpNKHCt",
        "outputId": "af948775-84ef-400b-da8a-7029f4ef234a"
      },
      "outputs": [
        {
          "output_type": "stream",
          "name": "stdout",
          "text": [
            "<class 'float'>\n"
          ]
        }
      ],
      "source": [
        "#Float(Decimal number)\n",
        "num2 = 9.81\n",
        "print(type(num2))"
      ]
    },
    {
      "cell_type": "code",
      "execution_count": 89,
      "metadata": {
        "colab": {
          "base_uri": "https://localhost:8080/"
        },
        "id": "jhaxSu__KTRJ",
        "outputId": "6f253d27-12a0-48cb-f0ef-d12fe2628ad6"
      },
      "outputs": [
        {
          "output_type": "stream",
          "name": "stdout",
          "text": [
            "<class 'complex'>\n"
          ]
        }
      ],
      "source": [
        "#comples number\n",
        "num3 = 7 + 12j\n",
        "print(type(num3))"
      ]
    },
    {
      "cell_type": "markdown",
      "metadata": {
        "id": "4ijViiGFLs5N"
      },
      "source": [
        "#Casting:- In Python, \"casting\" or \"type casting\" refers to the process of converting a value from one data type to another. This can be done either explicitly by the programmer or implicitly by Python during certain operations"
      ]
    },
    {
      "cell_type": "code",
      "execution_count": 90,
      "metadata": {
        "colab": {
          "base_uri": "https://localhost:8080/"
        },
        "id": "ssu8GqshKf9k",
        "outputId": "6e528f69-6e35-46e6-c724-2db6b78c92e3"
      },
      "outputs": [
        {
          "output_type": "stream",
          "name": "stdout",
          "text": [
            "<class 'float'>\n"
          ]
        }
      ],
      "source": [
        "#int to float\n",
        "x = 10 #int value\n",
        "y = float(x)\n",
        "print(type(y))"
      ]
    },
    {
      "cell_type": "code",
      "execution_count": 91,
      "metadata": {
        "colab": {
          "base_uri": "https://localhost:8080/"
        },
        "id": "iEvJqZLkMLvI",
        "outputId": "9bf1c651-a48c-4680-a470-04a0009b05c3"
      },
      "outputs": [
        {
          "output_type": "stream",
          "name": "stdout",
          "text": [
            "<class 'int'>\n",
            "9\n"
          ]
        }
      ],
      "source": [
        "#float to int\n",
        "num4 = 9.9 #float value\n",
        "num5 = int(num4)\n",
        "print(type(num5))\n",
        "print(num5)"
      ]
    },
    {
      "cell_type": "code",
      "execution_count": 92,
      "metadata": {
        "colab": {
          "base_uri": "https://localhost:8080/"
        },
        "id": "M5uefQmnMbIz",
        "outputId": "c1e6f0f1-ab7f-4d42-b2f5-c3912eff5ea3"
      },
      "outputs": [
        {
          "output_type": "stream",
          "name": "stdout",
          "text": [
            "<class 'str'>\n",
            "<class 'int'>\n"
          ]
        }
      ],
      "source": [
        "#string to  int\n",
        "str1 = \"123\"\n",
        "print(type(str1))\n",
        "num6 = int(str1)\n",
        "print(type(num6))\n"
      ]
    },
    {
      "cell_type": "code",
      "execution_count": 93,
      "metadata": {
        "colab": {
          "base_uri": "https://localhost:8080/"
        },
        "id": "DPyWgO4hMsX-",
        "outputId": "54117d3d-21f9-451b-9546-6c128ce02838"
      },
      "outputs": [
        {
          "output_type": "stream",
          "name": "stdout",
          "text": [
            "<class 'float'>\n",
            "9.72\n"
          ]
        }
      ],
      "source": [
        "#string to float\n",
        "str2 = \"9.72\"\n",
        "num7 = float(str2)\n",
        "print(type(num7))\n",
        "print(num7)"
      ]
    },
    {
      "cell_type": "code",
      "execution_count": 94,
      "metadata": {
        "colab": {
          "base_uri": "https://localhost:8080/"
        },
        "id": "ELhbh4qUNImB",
        "outputId": "12f7fee5-48d9-4432-a3b7-8dbe0cd81dcb"
      },
      "outputs": [
        {
          "output_type": "stream",
          "name": "stdout",
          "text": [
            "<class 'str'>\n",
            "18\n"
          ]
        }
      ],
      "source": [
        "#int to string\n",
        "num8 = 18\n",
        "str3 = str(num8)\n",
        "print(type(str3))\n",
        "print(str3)"
      ]
    },
    {
      "cell_type": "markdown",
      "metadata": {
        "id": "J-f3CFTQbACY"
      },
      "source": [
        "#String:-a string is an immutable sequence of characters, used to represent text. Strings are a fundamental data type in Python and are widely used for handling and manipulating text."
      ]
    },
    {
      "cell_type": "code",
      "execution_count": 95,
      "metadata": {
        "colab": {
          "base_uri": "https://localhost:8080/"
        },
        "id": "3sRxhV1aNaTa",
        "outputId": "0b78fd33-c006-4ae3-b1a7-764018fd9cde"
      },
      "outputs": [
        {
          "output_type": "stream",
          "name": "stdout",
          "text": [
            "<class 'str'>\n"
          ]
        }
      ],
      "source": [
        "str1 = \"My name is ARJUN\"\n",
        "print(type(str1))"
      ]
    },
    {
      "cell_type": "code",
      "execution_count": 96,
      "metadata": {
        "colab": {
          "base_uri": "https://localhost:8080/"
        },
        "id": "j_mRi8_7cBYf",
        "outputId": "abadaa14-325d-4288-fd36-e57b0ab856ac"
      },
      "outputs": [
        {
          "output_type": "stream",
          "name": "stdout",
          "text": [
            "MY NAME IS ARJUN\n"
          ]
        }
      ],
      "source": [
        "print(str1.upper())"
      ]
    },
    {
      "cell_type": "code",
      "execution_count": 99,
      "metadata": {
        "id": "Y6Ut6id5cNnM",
        "colab": {
          "base_uri": "https://localhost:8080/"
        },
        "outputId": "e18c9d23-92b7-461a-f73c-3352bcfe4b44"
      },
      "outputs": [
        {
          "output_type": "stream",
          "name": "stdout",
          "text": [
            "my name is arjun\n"
          ]
        }
      ],
      "source": [
        "\n",
        "print(str1.lower())"
      ]
    },
    {
      "cell_type": "markdown",
      "source": [
        "#Boolean:- a boolean is a built-in data type that represents truth values. It has two possible values: True and False. These are keywords and are case-sensitive, so they must be capitalized."
      ],
      "metadata": {
        "id": "S1U4tJPZh0e9"
      }
    },
    {
      "cell_type": "code",
      "source": [
        "a = True\n",
        "b = False\n",
        "print(a)"
      ],
      "metadata": {
        "colab": {
          "base_uri": "https://localhost:8080/"
        },
        "id": "I_n7R9rAh8EN",
        "outputId": "b525705f-21fd-47d3-b937-0f7927f1990a"
      },
      "execution_count": 100,
      "outputs": [
        {
          "output_type": "stream",
          "name": "stdout",
          "text": [
            "True\n"
          ]
        }
      ]
    },
    {
      "cell_type": "code",
      "source": [
        "print(b)"
      ],
      "metadata": {
        "colab": {
          "base_uri": "https://localhost:8080/"
        },
        "id": "Gqo150tuiKSx",
        "outputId": "a040efcd-8259-4132-859a-763546ee12a9"
      },
      "execution_count": 101,
      "outputs": [
        {
          "output_type": "stream",
          "name": "stdout",
          "text": [
            "False\n"
          ]
        }
      ]
    },
    {
      "cell_type": "code",
      "source": [
        "x = 10\n",
        "y = 9\n",
        "if x > y:\n",
        "  print(True)\n",
        "else:\n",
        "  print(False)"
      ],
      "metadata": {
        "colab": {
          "base_uri": "https://localhost:8080/"
        },
        "id": "Gf4g3HxkiMIp",
        "outputId": "ec412662-cba6-4bb4-e0bd-8b189b23ba73"
      },
      "execution_count": 102,
      "outputs": [
        {
          "output_type": "stream",
          "name": "stdout",
          "text": [
            "True\n"
          ]
        }
      ]
    },
    {
      "cell_type": "code",
      "source": [],
      "metadata": {
        "id": "JqKi4TW0iYzG"
      },
      "execution_count": null,
      "outputs": []
    }
  ],
  "metadata": {
    "colab": {
      "provenance": [],
      "authorship_tag": "ABX9TyNwFJt2c0ggsmSYf8LHpm1G",
      "include_colab_link": true
    },
    "kernelspec": {
      "display_name": "Python 3",
      "name": "python3"
    },
    "language_info": {
      "name": "python"
    }
  },
  "nbformat": 4,
  "nbformat_minor": 0
}