{
  "nbformat": 4,
  "nbformat_minor": 0,
  "metadata": {
    "colab": {
      "provenance": [],
      "authorship_tag": "ABX9TyPE8alv5IYA6MRWqg27xTSR",
      "include_colab_link": true
    },
    "kernelspec": {
      "name": "python3",
      "display_name": "Python 3"
    },
    "language_info": {
      "name": "python"
    }
  },
  "cells": [
    {
      "cell_type": "markdown",
      "metadata": {
        "id": "view-in-github",
        "colab_type": "text"
      },
      "source": [
        "<a href=\"https://colab.research.google.com/github/ARJUN108-verma/My-YouTube-Channel/blob/main/Complete_Python.ipynb\" target=\"_parent\"><img src=\"https://colab.research.google.com/assets/colab-badge.svg\" alt=\"Open In Colab\"/></a>"
      ]
    },
    {
      "cell_type": "markdown",
      "source": [
        "#Complete Python"
      ],
      "metadata": {
        "id": "rgqBYQbm89Sf"
      }
    },
    {
      "cell_type": "markdown",
      "source": [
        "Python :- Python is a popular, high-level, general-purpose programming language known for its clear syntax and readability, making it beginner-friendly and efficient for a wide range of applications, including web development, data science, automation, and artificial intelligence."
      ],
      "metadata": {
        "id": "WXvrbIs_9CdF"
      }
    },
    {
      "cell_type": "markdown",
      "source": [
        "Python was developed by Guido van Rossum, a Dutch programmer. He began working on Python in the late 1980s at Centrum Wiskunde & Informatica (CWI) in the Netherlands, and its first version was released in 1991."
      ],
      "metadata": {
        "id": "QHKtb17n9WCN"
      }
    },
    {
      "cell_type": "code",
      "source": [
        "print(\"Welcome to Python course\")"
      ],
      "metadata": {
        "colab": {
          "base_uri": "https://localhost:8080/"
        },
        "id": "44-mD90x84v5",
        "outputId": "6649f38e-4e30-42f1-cbc1-843a21139c75"
      },
      "execution_count": null,
      "outputs": [
        {
          "output_type": "stream",
          "name": "stdout",
          "text": [
            "Welcome to Python course\n"
          ]
        }
      ]
    },
    {
      "cell_type": "markdown",
      "source": [
        "#Comments"
      ],
      "metadata": {
        "id": "MQK4Kf0vD-aN"
      }
    },
    {
      "cell_type": "markdown",
      "source": [
        "Comments in Python are used to add explanatory notes within the code, making it more readable and understandable for both the original programmer and others who might review the code later. The Python interpreter ignores comments during program execution."
      ],
      "metadata": {
        "id": "Clpytiy5EKGU"
      }
    },
    {
      "cell_type": "markdown",
      "source": [
        "Single line comments:-"
      ],
      "metadata": {
        "id": "iNaVG2zBEj44"
      }
    },
    {
      "cell_type": "code",
      "execution_count": null,
      "metadata": {
        "colab": {
          "base_uri": "https://localhost:8080/"
        },
        "id": "N4tEOvpS8eK_",
        "outputId": "077971ff-08e7-4714-b9ec-3d4fa5974658"
      },
      "outputs": [
        {
          "output_type": "stream",
          "name": "stdout",
          "text": [
            "hello world\n"
          ]
        }
      ],
      "source": [
        "#1-this is the single line comment\n",
        "print(\"hello world\")"
      ]
    },
    {
      "cell_type": "markdown",
      "source": [
        "Multi-line comments:-"
      ],
      "metadata": {
        "id": "WVXykBqSEyAE"
      }
    },
    {
      "cell_type": "code",
      "source": [
        "\"\"\"this is\n",
        "multi-line\n",
        "comments\"\"\"\n",
        "print(\"Arjun\")"
      ],
      "metadata": {
        "colab": {
          "base_uri": "https://localhost:8080/"
        },
        "id": "JrH-CoczEt6D",
        "outputId": "5fbd64a9-e6f3-4ade-bf45-06fb38813af3"
      },
      "execution_count": null,
      "outputs": [
        {
          "output_type": "stream",
          "name": "stdout",
          "text": [
            "Arjun\n"
          ]
        }
      ]
    },
    {
      "cell_type": "code",
      "source": [],
      "metadata": {
        "id": "PI05u_DeFAKu"
      },
      "execution_count": null,
      "outputs": []
    }
  ]
}