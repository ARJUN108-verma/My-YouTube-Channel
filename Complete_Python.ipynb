{
  "nbformat": 4,
  "nbformat_minor": 0,
  "metadata": {
    "colab": {
      "provenance": [],
      "authorship_tag": "ABX9TyP3OsseOMiIIatLHKe8tG8a",
      "include_colab_link": true
    },
    "kernelspec": {
      "name": "python3",
      "display_name": "Python 3"
    },
    "language_info": {
      "name": "python"
    }
  },
  "cells": [
    {
      "cell_type": "markdown",
      "metadata": {
        "id": "view-in-github",
        "colab_type": "text"
      },
      "source": [
        "<a href=\"https://colab.research.google.com/github/ARJUN108-verma/My-YouTube-Channel/blob/main/Complete_Python.ipynb\" target=\"_parent\"><img src=\"https://colab.research.google.com/assets/colab-badge.svg\" alt=\"Open In Colab\"/></a>"
      ]
    },
    {
      "cell_type": "markdown",
      "source": [
        "#Complete Python"
      ],
      "metadata": {
        "id": "rgqBYQbm89Sf"
      }
    },
    {
      "cell_type": "markdown",
      "source": [
        "Python :- Python is a popular, high-level, general-purpose programming language known for its clear syntax and readability, making it beginner-friendly and efficient for a wide range of applications, including web development, data science, automation, and artificial intelligence."
      ],
      "metadata": {
        "id": "WXvrbIs_9CdF"
      }
    },
    {
      "cell_type": "markdown",
      "source": [
        "Python was developed by Guido van Rossum, a Dutch programmer. He began working on Python in the late 1980s at Centrum Wiskunde & Informatica (CWI) in the Netherlands, and its first version was released in 1991."
      ],
      "metadata": {
        "id": "QHKtb17n9WCN"
      }
    },
    {
      "cell_type": "code",
      "source": [
        "print(\"Welcome to Python course\")"
      ],
      "metadata": {
        "colab": {
          "base_uri": "https://localhost:8080/"
        },
        "id": "44-mD90x84v5",
        "outputId": "be3c318e-4838-42dd-b95a-7ad761c1e77d"
      },
      "execution_count": 1,
      "outputs": [
        {
          "output_type": "stream",
          "name": "stdout",
          "text": [
            "Welcome to Python course\n"
          ]
        }
      ]
    },
    {
      "cell_type": "markdown",
      "source": [
        "#Comments"
      ],
      "metadata": {
        "id": "MQK4Kf0vD-aN"
      }
    },
    {
      "cell_type": "markdown",
      "source": [
        "Comments in Python are used to add explanatory notes within the code, making it more readable and understandable for both the original programmer and others who might review the code later. The Python interpreter ignores comments during program execution."
      ],
      "metadata": {
        "id": "Clpytiy5EKGU"
      }
    },
    {
      "cell_type": "markdown",
      "source": [
        "Single line comments:-"
      ],
      "metadata": {
        "id": "iNaVG2zBEj44"
      }
    },
    {
      "cell_type": "code",
      "execution_count": 2,
      "metadata": {
        "colab": {
          "base_uri": "https://localhost:8080/"
        },
        "id": "N4tEOvpS8eK_",
        "outputId": "d6a025ab-8794-4ff5-a334-100884c0b445"
      },
      "outputs": [
        {
          "output_type": "stream",
          "name": "stdout",
          "text": [
            "hello world\n"
          ]
        }
      ],
      "source": [
        "#1-this is the single line comment\n",
        "print(\"hello world\")"
      ]
    },
    {
      "cell_type": "markdown",
      "source": [
        "Multi-line comments:-"
      ],
      "metadata": {
        "id": "WVXykBqSEyAE"
      }
    },
    {
      "cell_type": "code",
      "source": [
        "\"\"\"this is\n",
        "multi-line\n",
        "comments\"\"\"\n",
        "print(\"Arjun\")"
      ],
      "metadata": {
        "colab": {
          "base_uri": "https://localhost:8080/"
        },
        "id": "JrH-CoczEt6D",
        "outputId": "acfd1ac6-62e9-4e00-8297-ed18bf339cf5"
      },
      "execution_count": 3,
      "outputs": [
        {
          "output_type": "stream",
          "name": "stdout",
          "text": [
            "Arjun\n"
          ]
        }
      ]
    },
    {
      "cell_type": "markdown",
      "source": [
        "#Variables:-a variable is a named storage location that holds a value. It acts as a symbolic name, or identifier, for a piece of data in your program's memory."
      ],
      "metadata": {
        "id": "1IQBppf8-8fp"
      }
    },
    {
      "cell_type": "code",
      "source": [
        "#integer variable\n",
        "age = 25\n",
        "print(\"age\",age)"
      ],
      "metadata": {
        "id": "PI05u_DeFAKu",
        "colab": {
          "base_uri": "https://localhost:8080/"
        },
        "outputId": "59e27986-36b9-4e15-8612-e8247ae47a08"
      },
      "execution_count": 4,
      "outputs": [
        {
          "output_type": "stream",
          "name": "stdout",
          "text": [
            "age 25\n"
          ]
        }
      ]
    },
    {
      "cell_type": "code",
      "source": [
        "#float variable\n",
        "height = 6.3\n",
        "print(height)"
      ],
      "metadata": {
        "colab": {
          "base_uri": "https://localhost:8080/"
        },
        "id": "lxSFjy_yA2ja",
        "outputId": "6afe4ad0-440e-4ff3-ae12-337c97b5241c"
      },
      "execution_count": 5,
      "outputs": [
        {
          "output_type": "stream",
          "name": "stdout",
          "text": [
            "6.3\n"
          ]
        }
      ]
    },
    {
      "cell_type": "code",
      "source": [
        "#string variable\n",
        "name = \"Arjun\"\n",
        "print(name)"
      ],
      "metadata": {
        "colab": {
          "base_uri": "https://localhost:8080/"
        },
        "id": "5zbbT3BQBCMZ",
        "outputId": "3bef209e-288b-4890-d678-3bb4f363799c"
      },
      "execution_count": 6,
      "outputs": [
        {
          "output_type": "stream",
          "name": "stdout",
          "text": [
            "Arjun\n"
          ]
        }
      ]
    },
    {
      "cell_type": "code",
      "source": [
        "#boolean variabel\n",
        "is_present = True\n",
        "print(is_present)"
      ],
      "metadata": {
        "colab": {
          "base_uri": "https://localhost:8080/"
        },
        "id": "8fNRst1mBLMc",
        "outputId": "1ab5b73b-93cf-4166-edf8-46711b54eb6a"
      },
      "execution_count": 7,
      "outputs": [
        {
          "output_type": "stream",
          "name": "stdout",
          "text": [
            "True\n"
          ]
        }
      ]
    },
    {
      "cell_type": "code",
      "source": [
        "#List variable\n",
        "fruits = [\"apple\", \"mango\",\"banana\"]\n",
        "print(fruits)"
      ],
      "metadata": {
        "colab": {
          "base_uri": "https://localhost:8080/"
        },
        "id": "9AreeerjBXfk",
        "outputId": "3679f3df-5639-4b51-a661-a8c9edaf381b"
      },
      "execution_count": 8,
      "outputs": [
        {
          "output_type": "stream",
          "name": "stdout",
          "text": [
            "['apple', 'mango', 'banana']\n"
          ]
        }
      ]
    },
    {
      "cell_type": "code",
      "source": [
        "#Dictionary\n",
        "student = {\"name\":'arjun',\"age \":23}\n",
        "print(student)"
      ],
      "metadata": {
        "colab": {
          "base_uri": "https://localhost:8080/"
        },
        "id": "qwVCNpJ0Bl4n",
        "outputId": "3fd7cf88-92ec-461d-e33f-519fd1e1ae61"
      },
      "execution_count": 9,
      "outputs": [
        {
          "output_type": "stream",
          "name": "stdout",
          "text": [
            "{'name': 'arjun', 'age ': 23}\n"
          ]
        }
      ]
    },
    {
      "cell_type": "code",
      "source": [
        "#Tuple variable\n",
        "color = (\"red\",\"balck\", \"yellow\")\n",
        "print(color)"
      ],
      "metadata": {
        "colab": {
          "base_uri": "https://localhost:8080/"
        },
        "id": "YKwncaKOB3eO",
        "outputId": "5b1b1dc5-77f2-4585-83c4-a5c718c3e9ca"
      },
      "execution_count": 10,
      "outputs": [
        {
          "output_type": "stream",
          "name": "stdout",
          "text": [
            "('red', 'balck', 'yellow')\n"
          ]
        }
      ]
    },
    {
      "cell_type": "code",
      "source": [
        "#set variabel\n",
        "number = {1, 2, 3,4, 5}\n",
        "print(number)"
      ],
      "metadata": {
        "colab": {
          "base_uri": "https://localhost:8080/"
        },
        "id": "UQKlvAOXCIyE",
        "outputId": "8904dab5-4d31-4163-a93b-2e9bf47e1d1d"
      },
      "execution_count": 11,
      "outputs": [
        {
          "output_type": "stream",
          "name": "stdout",
          "text": [
            "{1, 2, 3, 4, 5}\n"
          ]
        }
      ]
    },
    {
      "cell_type": "markdown",
      "source": [
        "# Data types:- Python supports various built-in data types to store different kinds of values. These data types can be broadly categorized as follows:"
      ],
      "metadata": {
        "id": "44-_GNzdC9uJ"
      }
    },
    {
      "cell_type": "code",
      "source": [
        "#integer\n",
        "x = 9\n",
        "print(type(x))"
      ],
      "metadata": {
        "colab": {
          "base_uri": "https://localhost:8080/"
        },
        "id": "lFmxDf7FCVou",
        "outputId": "2862014a-905d-407f-d35e-f9c490300e1a"
      },
      "execution_count": 12,
      "outputs": [
        {
          "output_type": "stream",
          "name": "stdout",
          "text": [
            "<class 'int'>\n"
          ]
        }
      ]
    },
    {
      "cell_type": "code",
      "source": [
        "#float\n",
        "y = 9.9\n",
        "print(type(y))"
      ],
      "metadata": {
        "colab": {
          "base_uri": "https://localhost:8080/"
        },
        "id": "znJ0B8hPDgvR",
        "outputId": "2a1e97a9-c7fd-4bfb-ef25-79b8b3844d8c"
      },
      "execution_count": 13,
      "outputs": [
        {
          "output_type": "stream",
          "name": "stdout",
          "text": [
            "<class 'float'>\n"
          ]
        }
      ]
    },
    {
      "cell_type": "code",
      "source": [
        "#string\n",
        "na = \"ARJUN\"\n",
        "print(type(na))"
      ],
      "metadata": {
        "colab": {
          "base_uri": "https://localhost:8080/"
        },
        "id": "u3wgakuTDrWm",
        "outputId": "4725b4bc-9c30-41a2-f3b6-bd64560bc870"
      },
      "execution_count": 14,
      "outputs": [
        {
          "output_type": "stream",
          "name": "stdout",
          "text": [
            "<class 'str'>\n"
          ]
        }
      ]
    },
    {
      "cell_type": "code",
      "source": [
        "#boolean\n",
        "is_present = False\n",
        "print(type(is_present))"
      ],
      "metadata": {
        "colab": {
          "base_uri": "https://localhost:8080/"
        },
        "id": "xjUcG8zhDy4B",
        "outputId": "42d276a1-c2bd-4333-b457-4d01e654eed8"
      },
      "execution_count": 15,
      "outputs": [
        {
          "output_type": "stream",
          "name": "stdout",
          "text": [
            "<class 'bool'>\n"
          ]
        }
      ]
    },
    {
      "cell_type": "code",
      "source": [
        "#List\n",
        "fruits= ['APPLE ', \"mange\", \"banana\"]\n",
        "print(type(fruits))"
      ],
      "metadata": {
        "colab": {
          "base_uri": "https://localhost:8080/"
        },
        "id": "wC_blpiFD-UJ",
        "outputId": "edfe6ecd-8c4c-4e9f-af00-f9db488e6a25"
      },
      "execution_count": 16,
      "outputs": [
        {
          "output_type": "stream",
          "name": "stdout",
          "text": [
            "<class 'list'>\n"
          ]
        }
      ]
    },
    {
      "cell_type": "code",
      "source": [
        "#tuple\n",
        "coordinates = (10.0, 20.0)\n",
        "print(type(coordinates))"
      ],
      "metadata": {
        "colab": {
          "base_uri": "https://localhost:8080/"
        },
        "id": "Fh6q4CAwENDl",
        "outputId": "fa6559ae-050c-465f-9dd3-93aeaf11afb4"
      },
      "execution_count": 17,
      "outputs": [
        {
          "output_type": "stream",
          "name": "stdout",
          "text": [
            "<class 'tuple'>\n"
          ]
        }
      ]
    },
    {
      "cell_type": "code",
      "source": [
        "#dictionary\n",
        "student = {\"name \":\"arjun\", \"Roll_nu\":108}\n",
        "print(type(student))"
      ],
      "metadata": {
        "colab": {
          "base_uri": "https://localhost:8080/"
        },
        "id": "gBBMW2QYEZuh",
        "outputId": "16a39113-3435-4c59-9ef2-bce51ea7f8aa"
      },
      "execution_count": 18,
      "outputs": [
        {
          "output_type": "stream",
          "name": "stdout",
          "text": [
            "<class 'dict'>\n"
          ]
        }
      ]
    },
    {
      "cell_type": "code",
      "source": [
        "#set\n",
        "num = {1, 2, 3, 5}\n",
        "print(type(num))"
      ],
      "metadata": {
        "colab": {
          "base_uri": "https://localhost:8080/"
        },
        "id": "JJ0YE9vEEr2K",
        "outputId": "8b242dd2-48e5-449e-e2d7-2a1169cd64da"
      },
      "execution_count": 19,
      "outputs": [
        {
          "output_type": "stream",
          "name": "stdout",
          "text": [
            "<class 'set'>\n"
          ]
        }
      ]
    },
    {
      "cell_type": "code",
      "source": [
        "#none\n",
        "nothing = None\n",
        "print(type(nothing))"
      ],
      "metadata": {
        "colab": {
          "base_uri": "https://localhost:8080/"
        },
        "id": "6BrnoyvWE2at",
        "outputId": "4c9dad4a-9480-46bf-8d4a-2823fa2244fc"
      },
      "execution_count": 20,
      "outputs": [
        {
          "output_type": "stream",
          "name": "stdout",
          "text": [
            "<class 'NoneType'>\n"
          ]
        }
      ]
    },
    {
      "cell_type": "markdown",
      "source": [
        "#Numbers :- Python numbers are a fundamental data type for representing and manipulating numerical values. The three main forms of numbers in Python are integers, floating-point numbers, and complex numbers"
      ],
      "metadata": {
        "id": "736f5YkNJQTY"
      }
    },
    {
      "cell_type": "code",
      "source": [
        "#integer\n",
        "num1 = 10\n",
        "print(type(num1))"
      ],
      "metadata": {
        "id": "-8gHhbzLE_be",
        "colab": {
          "base_uri": "https://localhost:8080/"
        },
        "outputId": "02fc97ae-657e-46f0-8fdc-934f7ecfdf81"
      },
      "execution_count": 21,
      "outputs": [
        {
          "output_type": "stream",
          "name": "stdout",
          "text": [
            "<class 'int'>\n"
          ]
        }
      ]
    },
    {
      "cell_type": "code",
      "source": [
        "#Float(Decimal number)\n",
        "num2 = 9.81\n",
        "print(type(num2))"
      ],
      "metadata": {
        "colab": {
          "base_uri": "https://localhost:8080/"
        },
        "id": "w0N9QSpNKHCt",
        "outputId": "c1ec7658-bbad-4d22-ae49-eb3c1515dad9"
      },
      "execution_count": 22,
      "outputs": [
        {
          "output_type": "stream",
          "name": "stdout",
          "text": [
            "<class 'float'>\n"
          ]
        }
      ]
    },
    {
      "cell_type": "code",
      "source": [
        "#comples number\n",
        "num3 = 7 + 12j\n",
        "print(type(num3))"
      ],
      "metadata": {
        "colab": {
          "base_uri": "https://localhost:8080/"
        },
        "id": "jhaxSu__KTRJ",
        "outputId": "e15e8ef5-3681-4fdf-8d57-e992cc904998"
      },
      "execution_count": 23,
      "outputs": [
        {
          "output_type": "stream",
          "name": "stdout",
          "text": [
            "<class 'complex'>\n"
          ]
        }
      ]
    },
    {
      "cell_type": "markdown",
      "source": [
        "#Casting:- In Python, \"casting\" or \"type casting\" refers to the process of converting a value from one data type to another. This can be done either explicitly by the programmer or implicitly by Python during certain operations"
      ],
      "metadata": {
        "id": "4ijViiGFLs5N"
      }
    },
    {
      "cell_type": "code",
      "source": [
        "#int to float\n",
        "x = 10 #int value\n",
        "y = float(x)\n",
        "print(type(y))"
      ],
      "metadata": {
        "colab": {
          "base_uri": "https://localhost:8080/"
        },
        "id": "ssu8GqshKf9k",
        "outputId": "9e1b5cdb-b27e-46bb-c470-ce65801a864f"
      },
      "execution_count": 24,
      "outputs": [
        {
          "output_type": "stream",
          "name": "stdout",
          "text": [
            "<class 'float'>\n"
          ]
        }
      ]
    },
    {
      "cell_type": "code",
      "source": [
        "#float to int\n",
        "num4 = 9.9 #float value\n",
        "num5 = int(num4)\n",
        "print(type(num5))\n",
        "print(num5)"
      ],
      "metadata": {
        "colab": {
          "base_uri": "https://localhost:8080/"
        },
        "id": "iEvJqZLkMLvI",
        "outputId": "802a86b1-f83b-4b35-e6dc-ae9807d4681f"
      },
      "execution_count": 26,
      "outputs": [
        {
          "output_type": "stream",
          "name": "stdout",
          "text": [
            "<class 'int'>\n",
            "9\n"
          ]
        }
      ]
    },
    {
      "cell_type": "code",
      "source": [
        "#string to  int\n",
        "str1 = \"123\"\n",
        "print(type(str1))\n",
        "num6 = int(str1)\n",
        "print(type(num6))\n"
      ],
      "metadata": {
        "colab": {
          "base_uri": "https://localhost:8080/"
        },
        "id": "M5uefQmnMbIz",
        "outputId": "2d2df84e-cf05-4ec5-deb6-ec78b96a5b25"
      },
      "execution_count": 28,
      "outputs": [
        {
          "output_type": "stream",
          "name": "stdout",
          "text": [
            "<class 'str'>\n",
            "<class 'int'>\n"
          ]
        }
      ]
    },
    {
      "cell_type": "code",
      "source": [
        "#string to float\n",
        "str2 = \"9.72\"\n",
        "num7 = float(str2)\n",
        "print(type(num7))\n",
        "print(num7)"
      ],
      "metadata": {
        "colab": {
          "base_uri": "https://localhost:8080/"
        },
        "id": "DPyWgO4hMsX-",
        "outputId": "e40caf9c-b224-4d16-cf7c-cadfcd2970e5"
      },
      "execution_count": 29,
      "outputs": [
        {
          "output_type": "stream",
          "name": "stdout",
          "text": [
            "<class 'float'>\n",
            "9.72\n"
          ]
        }
      ]
    },
    {
      "cell_type": "code",
      "source": [
        "#int to string\n",
        "num8 = 18\n",
        "str3 = str(num8)\n",
        "print(type(str3))\n",
        "print(str3)"
      ],
      "metadata": {
        "colab": {
          "base_uri": "https://localhost:8080/"
        },
        "id": "ELhbh4qUNImB",
        "outputId": "220bbc71-0927-4c37-b4ba-457cf8d93587"
      },
      "execution_count": 31,
      "outputs": [
        {
          "output_type": "stream",
          "name": "stdout",
          "text": [
            "<class 'str'>\n",
            "18\n"
          ]
        }
      ]
    },
    {
      "cell_type": "code",
      "source": [],
      "metadata": {
        "id": "3sRxhV1aNaTa"
      },
      "execution_count": null,
      "outputs": []
    }
  ]
}